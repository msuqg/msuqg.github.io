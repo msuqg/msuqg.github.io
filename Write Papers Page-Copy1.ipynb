{
 "cells": [
  {
   "cell_type": "markdown",
   "metadata": {},
   "source": [
    "<h1>Auto-Generate Papers Page</h1>"
   ]
  },
  {
   "cell_type": "markdown",
   "metadata": {},
   "source": [
    "<i>This little script was written by <a href=\"www.drkenreid.github.com\">Ken Reid</a> for the <a href=\"www.msuqg.github.io\">MSU Quantitative Genetics website</a>. Please give it a star if you use it.</i>\n",
    "\n",
    "This works in 3 steps.\n",
    "\n",
    "<ol>\n",
    "    <li> Set up author names for parameters</li>\n",
    "    <li> Setup biopython if you don't have it, then run the scrape.</li>\n",
    "    <li> Remove non-unique entries</li>\n",
    "    <li> Write the HTML page (this is customised for www.msuqg.github.io but can be easily modified for your own usage). </li>\n",
    "</ol>"
   ]
  },
  {
   "cell_type": "markdown",
   "metadata": {},
   "source": [
    "<h2>Step One</h2>"
   ]
  },
  {
   "cell_type": "markdown",
   "metadata": {},
   "source": [
    "Define the names of authors we wish to list on the page, using the template: <span style=\"font-family: Consolas; font-size: 16px\">\"lastName firstName[Author]\"</span>"
   ]
  },
  {
   "cell_type": "code",
   "execution_count": 10,
   "metadata": {},
   "outputs": [],
   "source": [
    "names = [\"Gondro Cedric[Author]\",\"Tempelman RJ[Author]\", \"Huang Wen[Author]\"]"
   ]
  },
  {
   "cell_type": "markdown",
   "metadata": {},
   "source": [
    "<h2>Step Two</h2>"
   ]
  },
  {
   "cell_type": "markdown",
   "metadata": {},
   "source": [
    "Thanks to <a href=\"https://gist.github.com/bonzanini/5a4c39e4c02502a8451d\">Bonzanini</a> for the pubmed scraping code utilised (and modified) below.\n",
    "\n",
    "Import libraries, defined a couple of functions we'll use."
   ]
  },
  {
   "cell_type": "code",
   "execution_count": 11,
   "metadata": {},
   "outputs": [],
   "source": [
    "# you need to install Biopython:\n",
    "# pip install biopython\n",
    "\n",
    "# Full discussion:\n",
    "# https://marcobonzanini.wordpress.com/2015/01/12/searching-pubmed-with-python/\n",
    "import Bio\n",
    "from Bio import Entrez\n",
    "import json\n",
    "\n",
    "def search(query):\n",
    "    Entrez.email = 'your.email@example.com'\n",
    "    handle = Entrez.esearch(db='pubmed', \n",
    "                            sort='relevance', \n",
    "                            retmax='20',\n",
    "                            retmode='xml', \n",
    "                            term=query)\n",
    "    results = Entrez.read(handle)\n",
    "    return results\n",
    "\n",
    "def fetch_details(id_list):\n",
    "    ids = ','.join(id_list)\n",
    "    Entrez.email = 'your.email@example.com'\n",
    "    handle = Entrez.efetch(db='pubmed',\n",
    "                           retmode='xml',\n",
    "                           id=ids)\n",
    "    results = Entrez.read(handle)\n",
    "    return results\n",
    "\n"
   ]
  },
  {
   "cell_type": "markdown",
   "metadata": {},
   "source": [
    "Next we scrape PubMed for the above set of authors, then store <i>all</i> results in <span style=\"font-family: Consolas; font-size: 16px\">papers</span>."
   ]
  },
  {
   "cell_type": "code",
   "execution_count": 16,
   "metadata": {},
   "outputs": [
    {
     "name": "stdout",
     "output_type": "stream",
     "text": [
      "<class 'Bio.Entrez.Parser.DictionaryElement'>\n",
      "<class 'Bio.Entrez.Parser.DictionaryElement'>\n",
      "<class 'Bio.Entrez.Parser.DictionaryElement'>\n"
     ]
    }
   ],
   "source": [
    "if __name__ == '__main__':\n",
    "    for name in names:\n",
    "        results = search('fever')\n",
    "        id_list = results['IdList']\n",
    "        papers = fetch_details(id_list)\n",
    "        print(type(papers))\n",
    "\n",
    "        ####################################################################################\n",
    "        # Test this is running properly by running the following print commands:\n",
    "        #\n",
    "        # Print each:\n",
    "        #for i, paper in enumerate(papers['PubmedArticle']):\n",
    "        #   print(\"%d) %s\" % (i+1, paper['MedlineCitation']['Article']['ArticleTitle']))\n",
    "        #\n",
    "        # Print 1st paper in JSON format:\n",
    "        #print(json.dumps(papers['PubmedArticle'][0], indent=2, separators=(',', ':')))\n",
    "        ####################################################################################"
   ]
  },
  {
   "cell_type": "markdown",
   "metadata": {},
   "source": [
    "<h2>Step Three</h2>"
   ]
  },
  {
   "cell_type": "code",
   "execution_count": null,
   "metadata": {},
   "outputs": [],
   "source": []
  }
 ],
 "metadata": {
  "kernelspec": {
   "display_name": "Python 3",
   "language": "python",
   "name": "python3"
  },
  "language_info": {
   "codemirror_mode": {
    "name": "ipython",
    "version": 3
   },
   "file_extension": ".py",
   "mimetype": "text/x-python",
   "name": "python",
   "nbconvert_exporter": "python",
   "pygments_lexer": "ipython3",
   "version": "3.7.4"
  }
 },
 "nbformat": 4,
 "nbformat_minor": 2
}
